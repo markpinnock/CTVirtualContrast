{
 "cells": [
  {
   "cell_type": "code",
   "execution_count": null,
   "metadata": {},
   "outputs": [],
   "source": [
    "import json\n",
    "import matplotlib.pyplot as plt\n",
    "import numpy as np\n",
    "import os"
   ]
  },
  {
   "cell_type": "code",
   "execution_count": null,
   "metadata": {},
   "outputs": [],
   "source": [
    "FILE_PATH = \"C:/Users/roybo/OneDrive - University College London/PhD/PhD_Prog/007_CNN_Virtual_Contrast/logs/GAN/\"\n",
    "\n",
    "architecture_expts = [f for f in os.listdir(FILE_PATH) if 'D' in f]\n",
    "hyperparam_expts = [f for f in os.listdir(FILE_PATH) if 'M' in f]"
   ]
  },
  {
   "cell_type": "code",
   "execution_count": null,
   "metadata": {},
   "outputs": [],
   "source": [
    "def get_results(expts):\n",
    "    best_results = {}\n",
    "    results = {}\n",
    "\n",
    "    for expt in expts:\n",
    "        best_results[expt] = {}\n",
    "        results[expt] = {}\n",
    "\n",
    "        expt_path = f\"{FILE_PATH}{expt}/best_results.json\"\n",
    "        \n",
    "        with open(expt_path, 'r') as fp:\n",
    "            data = json.load(fp)\n",
    "            best_results[expt][\"focal\"] = data[\"val_metrics\"][\"focal\"][-1]\n",
    "            best_results[expt][\"global\"] = data[\"val_metrics\"][\"global\"][-1]\n",
    "\n",
    "        expt_path = f\"{FILE_PATH}{expt}/results.json\"\n",
    "        \n",
    "        with open(expt_path, 'r') as fp:\n",
    "            data = json.load(fp)\n",
    "            results[expt][\"epochs\"] = data[\"epochs\"]\n",
    "            results[expt][\"train_focal\"] = data[\"train_metrics\"][\"focal\"]\n",
    "            results[expt][\"train_global\"] = data[\"train_metrics\"][\"global\"]\n",
    "            results[expt][\"val_focal\"] = data[\"val_metrics\"][\"focal\"]\n",
    "            results[expt][\"val_global\"] = data[\"val_metrics\"][\"global\"]\n",
    "\n",
    "    return best_results, results"
   ]
  },
  {
   "cell_type": "code",
   "execution_count": null,
   "metadata": {},
   "outputs": [],
   "source": [
    "architecture_best, architecture_results = get_results(architecture_expts)\n",
    "hyperparam_best, hyperparam_results = get_results(hyperparam_expts)"
   ]
  },
  {
   "cell_type": "code",
   "execution_count": null,
   "metadata": {},
   "outputs": [],
   "source": [
    "architecture_best"
   ]
  },
  {
   "cell_type": "code",
   "execution_count": null,
   "metadata": {},
   "outputs": [],
   "source": [
    "hyperparam_best"
   ]
  },
  {
   "cell_type": "code",
   "execution_count": null,
   "metadata": {},
   "outputs": [],
   "source": [
    "fig, axs = plt.subplots(6, 1, figsize=(18, 24))\n",
    "\n",
    "for idx, (key, value) in enumerate(architecture_results.items()):\n",
    "    axs[idx].plot(value[\"epochs\"], value[\"train_global\"], \"k--\", label=\"global\")\n",
    "    axs[idx].plot(value[\"epochs\"], value[\"train_focal\"], \"r--\", label=\"focal\")\n",
    "    axs[idx].plot(value[\"epochs\"], value[\"val_global\"], \"k-\", label=\"global\")\n",
    "    axs[idx].plot(value[\"epochs\"], value[\"val_focal\"], \"r-\", label=\"focal\")\n",
    "    axs[idx].set_title(key)\n",
    "\n",
    "plt.tight_layout()\n",
    "plt.legend()\n",
    "plt.show()"
   ]
  },
  {
   "cell_type": "code",
   "execution_count": null,
   "metadata": {},
   "outputs": [],
   "source": [
    "fig, axs = plt.subplots(6, 1, figsize=(18, 24))\n",
    "\n",
    "for idx, (key, value) in enumerate(hyperparam_results.items()):\n",
    "    axs[idx].plot(value[\"epochs\"], value[\"train_global\"], \"k--\", label=\"global\")\n",
    "    axs[idx].plot(value[\"epochs\"], value[\"train_focal\"], \"r--\", label=\"focal\")\n",
    "    axs[idx].plot(value[\"epochs\"], value[\"val_global\"], \"k-\", label=\"global\")\n",
    "    axs[idx].plot(value[\"epochs\"], value[\"val_focal\"], \"r-\", label=\"focal\")\n",
    "    axs[idx].set_title(key)\n",
    "\n",
    "plt.tight_layout()\n",
    "plt.legend()\n",
    "plt.show()"
   ]
  },
  {
   "cell_type": "code",
   "execution_count": null,
   "metadata": {},
   "outputs": [],
   "source": [
    "{key: [val[\"train_global\"][-1], val[\"train_focal\"][-1]] for key, val in hyperparam_results.items()}"
   ]
  },
  {
   "cell_type": "code",
   "execution_count": null,
   "metadata": {},
   "outputs": [],
   "source": [
    "{key: [val[\"val_global\"][-1], val[\"val_focal\"][-1]] for key, val in hyperparam_results.items()}"
   ]
  }
 ],
 "metadata": {
  "kernelspec": {
   "display_name": "Python 3",
   "language": "python",
   "name": "python3"
  },
  "language_info": {
   "codemirror_mode": {
    "name": "ipython",
    "version": 3
   },
   "file_extension": ".py",
   "mimetype": "text/x-python",
   "name": "python",
   "nbconvert_exporter": "python",
   "pygments_lexer": "ipython3",
   "version": "3.7.4"
  }
 },
 "nbformat": 4,
 "nbformat_minor": 2
}
