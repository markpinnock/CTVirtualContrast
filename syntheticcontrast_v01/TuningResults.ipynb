{
 "cells": [
  {
   "cell_type": "code",
   "execution_count": null,
   "metadata": {},
   "outputs": [],
   "source": [
    "import json\n",
    "import matplotlib.pyplot as plt\n",
    "import numpy as np\n",
    "import os"
   ]
  },
  {
   "cell_type": "code",
   "execution_count": null,
   "metadata": {},
   "outputs": [],
   "source": [
    "def extract_json(expt, res_dict):\n",
    "    ROI = expt.split('_')[0]\n",
    "    mu = float(expt.split('_')[1]) / 100\n",
    "    gamma = float(expt.split('_')[2]) / 1000\n",
    "    expt_path = f\"{FILE_PATH}{expt}/results.json\"\n",
    "    data = json.load(open(expt_path, 'r'))\n",
    "    metrics = [data[\"val_metric\"][\"global\"][-1], data[\"val_metric\"][\"focal\"][-1]]\n",
    "    res_dict[ROI][\"mu\"].append(mu)\n",
    "    res_dict[ROI][\"gamma\"].append(gamma)\n",
    "    res_dict[ROI][\"global\"].append(metrics[0])\n",
    "    res_dict[ROI][\"focal\"].append(metrics[1])"
   ]
  },
  {
   "cell_type": "code",
   "execution_count": null,
   "metadata": {},
   "outputs": [],
   "source": [
    "def plot_res(ROI):\n",
    "    plt.figure(figsize=(16, 4))\n",
    "    plt.subplot(1, 3, 1)\n",
    "    plt.scatter(res_dict[ROI][\"mu\"], np.log10(res_dict[ROI][\"gamma\"]), c=res_dict[ROI][\"global\"], s=500)\n",
    "    plt.viridis()\n",
    "    plt.title(\"Global\")\n",
    "    plt.colorbar()\n",
    "    plt.subplot(1, 3, 2)\n",
    "    plt.scatter(res_dict[ROI][\"mu\"], np.log10(res_dict[ROI][\"gamma\"]), c=res_dict[ROI][\"focal\"], s=500)\n",
    "    plt.viridis()\n",
    "    plt.title(\"Focal\")\n",
    "    plt.colorbar()\n",
    "    plt.subplot(1, 3, 3)\n",
    "    plt.scatter(res_dict[ROI][\"mu\"], np.log10(res_dict[ROI][\"gamma\"]), c=np.array(res_dict[ROI][\"focal\"]) + np.array(res_dict[ROI][\"global\"]), s=500)\n",
    "    plt.viridis()\n",
    "    plt.title(\"Combined\")\n",
    "    plt.colorbar()\n",
    "    plt.show()"
   ]
  },
  {
   "cell_type": "code",
   "execution_count": null,
   "metadata": {},
   "outputs": [],
   "source": [
    "def gamma_check(ROI):\n",
    "    for i in range(5):\n",
    "        mu_l = i * 0.2\n",
    "        mu_h = (i + 1) * 0.2\n",
    "    \n",
    "        idx = np.logical_and(np.array(res_dict[ROI]['mu']) >= mu_l, np.array(res_dict[ROI]['mu']) <= mu_h)\n",
    "        gammas = np.array(res_dict[ROI]['gamma'])[idx]\n",
    "        gamma_idx = np.argsort(gammas)\n",
    "        print(f\"Mu: {(mu_l, mu_h)}\")\n",
    "        print(f\"Gamma: {np.log10(gammas[gamma_idx])}\")\n",
    "        print(f\"Global: {np.array(res_dict[ROI]['global'])[idx][gamma_idx]}\")\n",
    "        print(f\"Focal: {np.array(res_dict[ROI]['focal'])[idx][gamma_idx]}\")"
   ]
  },
  {
   "cell_type": "code",
   "execution_count": null,
   "metadata": {},
   "outputs": [],
   "source": [
    "def best_model(ROI):\n",
    "    idx = np.argmin(np.array(res_dict[ROI][\"global\"]) + np.array(res_dict[ROI][\"focal\"]))\n",
    "    print(f\"Loss: {np.array(res_dict[ROI]['global'])[idx], np.array(res_dict[ROI]['focal'])[idx], (np.array(res_dict[ROI]['global']) + np.array(res_dict[ROI]['focal']))[idx]}\")\n",
    "    print(f\"Mu: {res_dict[ROI]['mu'][idx]}\")\n",
    "    print(f\"{res_dict[ROI]['gamma'][idx]}\")\n",
    "    print(f\"{np.log10(res_dict[ROI]['gamma'])[idx]}\")\n",
    "    return (res_dict[ROI]['mu'][idx], np.log10(res_dict[ROI]['gamma'])[idx])"
   ]
  },
  {
   "cell_type": "code",
   "execution_count": null,
   "metadata": {},
   "outputs": [],
   "source": [
    "FILE_PATH = \"C:/Users/roybo/OneDrive - University College London/PhD/PhD_Prog/007_CNN_Virtual_Contrast/logs/UNet/\"\n",
    "\n",
    "expts = [f for f in os.listdir(FILE_PATH) if '_' in f and 'A' not in f]\n",
    "\n",
    "res_dict = {\"32\": {\"mu\": [], \"gamma\": [], \"global\": [], \"focal\": []}, \"64\": {\"mu\": [], \"gamma\": [], \"global\": [], \"focal\": []}, \"128\": {\"mu\": [], \"gamma\": [], \"global\": [], \"focal\": []}, \"256\": {\"mu\": [], \"gamma\": [], \"global\": [], \"focal\": []}}\n",
    "\n",
    "for expt in expts:\n",
    "    res = extract_json(expt, res_dict)"
   ]
  },
  {
   "cell_type": "code",
   "execution_count": null,
   "metadata": {},
   "outputs": [],
   "source": [
    "ROI = \"64\"\n",
    "plot_res(ROI)\n",
    "_, best_model(ROI)\n",
    "# gamma_check(ROI)"
   ]
  },
  {
   "cell_type": "code",
   "execution_count": null,
   "metadata": {},
   "outputs": [],
   "source": [
    "%matplotlib inline\n",
    "fig, axs = plt.subplots(2, 2, figsize=(8, 8))\n",
    "axs = axs.ravel()\n",
    "ROIs = [\"32\", \"64\", \"128\", \"256\"]\n",
    "\n",
    "for i in range(4):\n",
    "    mu, log_gamma = best_model(ROIs[i])\n",
    "    b = axs[i].scatter(res_dict[ROIs[i]][\"mu\"], np.log10(res_dict[ROIs[i]][\"gamma\"]), c=np.array(res_dict[ROIs[i]][\"global\"]) + np.array(res_dict[ROIs[i]][\"focal\"]), s=500, vmin=0.01, vmax=0.1)\n",
    "    axs[i].plot(mu, log_gamma, 'w+', markersize=15)\n",
    "    axs[i].set_title(f\"ROI width: {ROIs[i]}\")\n",
    "    axs[i].set_xlabel(\"mu\")\n",
    "    axs[i].set_ylabel(\"log gamma\")\n",
    "    axs[i].set_xlim([-0.2, 1.2])\n",
    "    axs[i].set_ylim([-6.2, -3.8])\n",
    "\n",
    "plt.viridis()\n",
    "cbar_ax = fig.add_axes([0.95, 0.125, 0.05, 0.755])\n",
    "fig.colorbar(b, cbar_ax)\n",
    "plt.subplots_adjust(hspace=0.3)\n",
    "plt.subplots_adjust(wspace=0.3)\n",
    "\n",
    "# plt.show()\n",
    "plt.savefig(\"./tune.png\", bbox_inches='tight')"
   ]
  },
  {
   "cell_type": "code",
   "execution_count": null,
   "metadata": {},
   "outputs": [],
   "source": [
    "# ROI32 = np.vstack([np.array(res_dict[\"32\"][\"global\"]) + np.array(res_dict[\"32\"][\"focal\"]), np.ones(np.array(res_dict[\"32\"][\"focal\"]).shape) * 32])\n",
    "# ROI64 = np.vstack([np.array(res_dict[\"64\"][\"global\"]) + np.array(res_dict[\"64\"][\"focal\"]), np.ones(np.array(res_dict[\"64\"][\"focal\"]).shape) * 64])\n",
    "# ROI128 = np.vstack([np.array(res_dict[\"128\"][\"global\"]) + np.array(res_dict[\"128\"][\"focal\"]), np.ones(np.array(res_dict[\"128\"][\"focal\"]).shape) * 128])\n",
    "# ROI256 = np.vstack([np.array(res_dict[\"256\"][\"global\"]) + np.array(res_dict[\"256\"][\"focal\"]), np.ones(np.array(res_dict[\"256\"][\"focal\"]).shape) * 256])\n",
    "# res = np.hstack([ROI32, ROI64, ROI128, ROI256])\n",
    "g = np.hstack([np.array(res_dict[\"32\"][\"global\"]), np.array(res_dict[\"64\"][\"global\"]), np.array(res_dict[\"128\"][\"global\"]), np.array(res_dict[\"256\"][\"global\"])])\n",
    "f = np.hstack([np.array(res_dict[\"32\"][\"focal\"]), np.array(res_dict[\"64\"][\"focal\"]), np.array(res_dict[\"128\"][\"focal\"]), np.array(res_dict[\"256\"][\"focal\"])])\n",
    "mu = np.hstack([np.array(res_dict[\"32\"][\"mu\"]), np.array(res_dict[\"64\"][\"mu\"]), np.array(res_dict[\"128\"][\"mu\"]), np.array(res_dict[\"256\"][\"mu\"])])\n",
    "gamma = np.hstack([np.array(res_dict[\"32\"][\"gamma\"]), np.array(res_dict[\"64\"][\"gamma\"]), np.array(res_dict[\"128\"][\"gamma\"]), np.array(res_dict[\"256\"][\"gamma\"])])\n",
    "import scipy.stats as stat\n",
    "plt.scatter(gamma, g+f)\n",
    "# plt.xlim([-0.0001, 0.0001])\n",
    "stat.pearsonr(gamma, g+f)"
   ]
  }
 ],
 "metadata": {
  "kernelspec": {
   "display_name": "Python 3",
   "language": "python",
   "name": "python3"
  },
  "language_info": {
   "codemirror_mode": {
    "name": "ipython",
    "version": 3
   },
   "file_extension": ".py",
   "mimetype": "text/x-python",
   "name": "python",
   "nbconvert_exporter": "python",
   "pygments_lexer": "ipython3",
   "version": "3.7.4"
  }
 },
 "nbformat": 4,
 "nbformat_minor": 2
}
